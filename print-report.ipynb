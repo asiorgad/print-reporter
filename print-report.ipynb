{
 "cells": [
  {
   "cell_type": "code",
   "execution_count": 18,
   "metadata": {},
   "outputs": [],
   "source": [
    "import pandas as pd\n",
    "import numpy as np\n",
    "from time import sleep\n",
    "from os import getcwd\n",
    "\n",
    "from IPython.display import clear_output\n",
    "#clear_output(wait=True)\n",
    "\n",
    "##tkinter open file\n",
    "from tkinter import Tk\n",
    "from tkinter.filedialog import askopenfilename\n",
    "\n",
    "done = False\n",
    "pwd = getcwd()\n",
    "filename = None\n"
   ]
  },
  {
   "cell_type": "code",
   "execution_count": 20,
   "metadata": {},
   "outputs": [
    {
     "name": "stdout",
     "output_type": "stream",
     "text": [
      "please choose an xlsx file\n"
     ]
    },
    {
     "data": {
      "text/plain": [
       "'/Users/ssaorgad/Desktop/papercut-print-log-2020-09.xlsx'"
      ]
     },
     "execution_count": 20,
     "metadata": {},
     "output_type": "execute_result"
    }
   ],
   "source": [
    "PaperCut Print Logger\n",
    "\n",
    "## get xlsx file path\n",
    "\n",
    "def openfile():\n",
    "    done = False\n",
    "    while done == False:\n",
    "        print('please choose an xlsx file')\n",
    "        root = Tk()\n",
    "        root.withdraw() \n",
    "        global filename\n",
    "        filename = askopenfilename() \n",
    "        root.update()\n",
    "        done = True\n",
    "        return filename\n",
    "    \n",
    "openfile()\n"
   ]
  },
  {
   "cell_type": "code",
   "execution_count": 13,
   "metadata": {},
   "outputs": [],
   "source": [
    "## Preparing data\n",
    "dfx = pd.read_excel((filename),skiprows=1)\n",
    "dfx = dfx.drop(['Paper Size', 'Language', 'Height', 'Width', 'Duplex', 'Grayscale',\n",
    "       'Size'],axis=1)\n",
    "\n",
    "##Add a column that summerize total print (copies*pages)\n",
    "sum_col =  dfx[\"Pages\"] * dfx[\"Copies\"]\n",
    "dfx['Total Pages'] = sum_col\n",
    " ## Summerize all total pages group by Client\n",
    "pivot1 = pd.pivot_table(dfx,index='Client', values='Total Pages',aggfunc=np.sum)\n",
    "## arrange Clients in dict\n",
    "index = 1\n",
    "d = {}\n",
    "filtered = set(dfx['Client'])\n",
    "for i in filtered:\n",
    "    d[index] = i\n",
    "    index += 1\n",
    "clients_table = pd.DataFrame.from_dict(d,orient='index')"
   ]
  },
  {
   "cell_type": "code",
   "execution_count": 14,
   "metadata": {},
   "outputs": [],
   "source": [
    "\n",
    "\n",
    "\n",
    "def summerize():\n",
    "    sumall = input(\"summerize all Clients Printed Pages? y or n ?\")\n",
    "    while sumall != 'n' or 'y':\n",
    "        if sumall == 'y':\n",
    "            print('All Printed Pages by Client Subtotal:')\n",
    "            print(pivot1)\n",
    "            break\n",
    "        elif sumall == 'n':\n",
    "            pass\n",
    "        else:\n",
    "            print(\"please choose y or n\")\n",
    "            sumall = input(\"summerize all Clients Printed Pages? y or n?\")\n",
    "            pass\n"
   ]
  },
  {
   "cell_type": "code",
   "execution_count": 21,
   "metadata": {},
   "outputs": [],
   "source": [
    "    \n",
    "def export(key):\n",
    "    Clientname = d[key]\n",
    "    pd.DataFrame(dfx[dfx.Client.isin([Clientname])]).to_excel(str(Clientname)+'Report.xlsx')\n",
    "    print(('file saved successfully to ') + pwd +\"/\"+(str(Clientname)+'_Prints_Report.xlsx')  )\n",
    "    \n",
    "## prompts to choose Cilent by key   \n",
    "def report():\n",
    "    print(clients_table)\n",
    "    key = int(input(\"Enter a Client Nunmber to get detailed print report\"))\n",
    "    clear_output()\n",
    "    Clientname = d[key]\n",
    "    \n",
    "    print_total = pivot1['Total Pages'][Clientname]\n",
    "    ##prints only clients report\n",
    "    print (dfx[dfx.Client.isin([Clientname])])\n",
    "    print(\"User Total Prints: \")\n",
    "    print(print_total)\n",
    "    \n",
    "    #print\n",
    "    "
   ]
  },
  {
   "cell_type": "code",
   "execution_count": 21,
   "metadata": {},
   "outputs": [
    {
     "name": "stdout",
     "output_type": "stream",
     "text": [
      "file saved successfully to /Users/ssaorgad/FILE-SRV_Prints_Report.xlsx\n"
     ]
    }
   ],
   "source": [
    "\n",
    "while done != True:\n",
    "    openfile()\n",
    "    report()\n"
   ]
  },
  {
   "cell_type": "code",
   "execution_count": 22,
   "metadata": {},
   "outputs": [
    {
     "name": "stdout",
     "output_type": "stream",
     "text": [
      "                    Time  User  Pages  Copies     Printer  \\\n",
      "19   2020-09-01 11:25:55  kgat      1       1  Realestate   \n",
      "52   2020-09-01 13:25:06  kgat      1       3  Realestate   \n",
      "56   2020-09-01 13:35:25  kgat      1       1  Realestate   \n",
      "153  2020-09-02 13:17:50  kgat      1       1  Realestate   \n",
      "562  2020-09-07 13:10:22  kgat      6       1  Realestate   \n",
      "602  2020-09-07 14:03:03  kgat      6       1  Realestate   \n",
      "735  2020-09-08 12:48:53  kgat      1       1  Realestate   \n",
      "739  2020-09-08 13:36:29  kgat      2       1  Realestate   \n",
      "740  2020-09-08 13:39:10  kgat      2       1  Realestate   \n",
      "741  2020-09-08 13:40:23  kgat      2       1  Realestate   \n",
      "850  2020-09-09 11:02:42  kgat      6       1  Realestate   \n",
      "856  2020-09-09 12:04:00  kgat      1       1  Realestate   \n",
      "857  2020-09-09 12:04:23  kgat      1       1  Realestate   \n",
      "858  2020-09-09 12:04:42  kgat      1       1  Realestate   \n",
      "881  2020-09-09 18:09:58  kgat      4       1  Realestate   \n",
      "1024 2020-09-13 12:11:46  kgat      1       1  Realestate   \n",
      "\n",
      "                                          Document Name       Client  \\\n",
      "19                               Microsoft Word - מסמך3  D-KEREN-NUC   \n",
      "52                               Microsoft Word - מסמך5  D-KEREN-NUC   \n",
      "56    Microsoft Word - (18)גת בקשה להעברה בנקאית מהמ...  D-KEREN-NUC   \n",
      "153                                                7009  D-KEREN-NUC   \n",
      "562                                         מסמך ללא שם  D-KEREN-NUC   \n",
      "602                                      תנועות אחרונות  D-KEREN-NUC   \n",
      "735                                 frmprintShovar.aspx  D-KEREN-NUC   \n",
      "739   אימות העתק של מסמך דו-לשוני _ נוטריונט _ הממשק...  D-KEREN-NUC   \n",
      "740   אימות העתק של מסמך דו-לשוני _ נוטריונט _ הממשק...  D-KEREN-NUC   \n",
      "741   אימות העתק של מסמך דו-לשוני _ נוטריונט _ הממשק...  D-KEREN-NUC   \n",
      "850   Microsoft Word - (21)רונן חפץ תגובת המשיב מיום...  D-KEREN-NUC   \n",
      "856                                 frmprintShovar.aspx  D-KEREN-NUC   \n",
      "857                                 frmprintShovar.aspx  D-KEREN-NUC   \n",
      "858                                 frmprintShovar.aspx  D-KEREN-NUC   \n",
      "881                  בקשת הצטרפות + העברה לקופת גמל.pdf  D-KEREN-NUC   \n",
      "1024                           חישוב ארנון 2020-09.xlsx  D-KEREN-NUC   \n",
      "\n",
      "      Total Pages  \n",
      "19              1  \n",
      "52              3  \n",
      "56              1  \n",
      "153             1  \n",
      "562             6  \n",
      "602             6  \n",
      "735             1  \n",
      "739             2  \n",
      "740             2  \n",
      "741             2  \n",
      "850             6  \n",
      "856             1  \n",
      "857             1  \n",
      "858             1  \n",
      "881             4  \n",
      "1024            1  \n",
      "User Total Prints: \n",
      "39\n"
     ]
    }
   ],
   "source": [
    "report()"
   ]
  },
  {
   "cell_type": "code",
   "execution_count": null,
   "metadata": {},
   "outputs": [],
   "source": []
  }
 ],
 "metadata": {
  "kernelspec": {
   "display_name": "Python 3",
   "language": "python",
   "name": "python3"
  },
  "language_info": {
   "codemirror_mode": {
    "name": "ipython",
    "version": 3
   },
   "file_extension": ".py",
   "mimetype": "text/x-python",
   "name": "python",
   "nbconvert_exporter": "python",
   "pygments_lexer": "ipython3",
   "version": "3.8.3"
  }
 },
 "nbformat": 4,
 "nbformat_minor": 4
}
